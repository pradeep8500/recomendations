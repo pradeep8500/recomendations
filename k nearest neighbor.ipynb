{
 "cells": [
  {
   "cell_type": "code",
   "execution_count": 7,
   "metadata": {},
   "outputs": [
    {
     "name": "stdout",
     "output_type": "stream",
     "text": [
      "             created_at  final_price  id is_salable  \\\n",
      "25  2017-06-08 15:29:27        110.0  33       True   \n",
      "\n",
      "                                     name  price  qty  \\\n",
      "25  Kairali Indukantham Kashayam (200 ml)  110.0  0.0   \n",
      "\n",
      "                                      sku  status  visibility website_ids  \\\n",
      "25  Kairali Indukantham Kashayam (200 ml)     1.0         4.0         [1]   \n",
      "\n",
      "    rating  reviews_count  views  sold  Discount  Percentages  \n",
      "25    90.0            2.0   21.0   0.0       0.0          0.0  \n",
      "        id   price  distance\n",
      "558    630   110.0       0.0\n",
      "146    156   110.0       0.0\n",
      "1020  1288   110.0       0.0\n",
      "36      46   110.0       0.0\n",
      "31      40   110.0       0.0\n",
      "30      39   110.0       0.0\n",
      "822   1085   110.0       0.0\n",
      "26      34   110.0       0.0\n",
      "25      33   110.0       0.0\n",
      "537    609   110.0       0.0\n",
      "223    233   110.0       0.0\n",
      "533    605   110.0       0.0\n",
      "839   1102   110.0       0.0\n",
      "273    303   110.0       0.0\n",
      "464    531   110.0       0.0\n",
      "532    604   108.0       2.0\n",
      "536    608   108.0       2.0\n",
      "540    612   108.0       2.0\n",
      "559    631   115.0       5.0\n",
      "1224  1526   105.0       5.0\n",
      "541    613   105.0       5.0\n",
      "1012  1280   115.0       5.0\n",
      "222    232   115.0       5.0\n",
      "1222  1524   115.0       5.0\n",
      "1223  1525   105.0       5.0\n",
      "221    231   105.0       5.0\n",
      "1023  1291   116.0       6.0\n",
      "1005  1273   119.0       9.0\n",
      "662    822   100.0      10.0\n",
      "293    329   120.0      10.0\n",
      "...    ...     ...       ...\n",
      "1075  1353  1800.0    1690.0\n",
      "734    931  1960.0    1850.0\n",
      "739    946  1980.0    1870.0\n",
      "1081  1359  2000.0    1890.0\n",
      "737    939  2000.0    1890.0\n",
      "729    922  2240.0    2130.0\n",
      "644    779  2350.0    2240.0\n",
      "759   1000  2440.0    2330.0\n",
      "671    840  2760.0    2650.0\n",
      "386    439  2970.0    2860.0\n",
      "610    689  3000.0    2890.0\n",
      "457    523  3150.0    3040.0\n",
      "476    544  3150.0    3040.0\n",
      "469    537  3150.0    3040.0\n",
      "463    529  3150.0    3040.0\n",
      "467    535  3150.0    3040.0\n",
      "590    664  3150.0    3040.0\n",
      "448    514  3150.0    3040.0\n",
      "1076  1354  3200.0    3090.0\n",
      "621    715  3600.0    3490.0\n",
      "727    920  3640.0    3530.0\n",
      "728    921  3960.0    3850.0\n",
      "912   1178  4440.0    4330.0\n",
      "735    932  4800.0    4690.0\n",
      "651    796  6000.0    5890.0\n",
      "449    515  6300.0    6190.0\n",
      "446    512  6300.0    6190.0\n",
      "444    509  6300.0    6190.0\n",
      "458    524  6300.0    6190.0\n",
      "471    539  6300.0    6190.0\n",
      "\n",
      "[1489 rows x 3 columns]\n"
     ]
    },
    {
     "data": {
      "text/plain": [
       "[630, 156, 1288, 46, 40, 39, 1085, 34, 33, 609]"
      ]
     },
     "execution_count": 7,
     "metadata": {},
     "output_type": "execute_result"
    }
   ],
   "source": [
    "import pandas as pd\n",
    "df = pd.read_csv(\"AR_all.csv\")\n",
    "def price_range(id,num):\n",
    "    dd=df.loc[df['id']==id]\n",
    "    print(dd)\n",
    "    price=list(dd['price'])[0]\n",
    "    df1=df[['id','price']][:len(df)]\n",
    "    df1['distance']=abs(df['price']-int(price))\n",
    "    df2=df1.sort_values(['distance'])\n",
    "    print(df2)\n",
    "    return(list(df2['id'])[:num])\n",
    "price_range(33,10)    "
   ]
  },
  {
   "cell_type": "code",
   "execution_count": null,
   "metadata": {},
   "outputs": [],
   "source": []
  }
 ],
 "metadata": {
  "kernelspec": {
   "display_name": "Python 3",
   "language": "python",
   "name": "python3"
  },
  "language_info": {
   "codemirror_mode": {
    "name": "ipython",
    "version": 3
   },
   "file_extension": ".py",
   "mimetype": "text/x-python",
   "name": "python",
   "nbconvert_exporter": "python",
   "pygments_lexer": "ipython3",
   "version": "3.6.5"
  }
 },
 "nbformat": 4,
 "nbformat_minor": 2
}
