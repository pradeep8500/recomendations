{
 "cells": [
  {
   "cell_type": "code",
   "execution_count": 8,
   "metadata": {},
   "outputs": [
    {
     "name": "stdout",
     "output_type": "stream",
     "text": [
      "[[1.         0.         0.         ... 0.         0.         0.        ]\n",
      " [0.         1.         0.30869356 ... 0.         0.         0.        ]\n",
      " [0.         0.30869356 1.         ... 0.         0.         0.        ]\n",
      " ...\n",
      " [0.         0.         0.         ... 0.         0.         0.        ]\n",
      " [0.         0.         0.         ... 0.         0.         0.        ]\n",
      " [0.         0.         0.         ... 0.         0.         0.        ]]\n",
      "done!\n"
     ]
    }
   ],
   "source": [
    "import pandas as pd\n",
    "from sklearn.feature_extraction.text import TfidfVectorizer\n",
    "from sklearn.metrics.pairwise import linear_kernel\n",
    "\n",
    "ds = pd.read_csv(\"AR_all.csv\")\n",
    "\n",
    "tf = TfidfVectorizer(analyzer='word', ngram_range=(1, 1), min_df=0, stop_words='english')\n",
    "tfidf_matrix = tf.fit_transform(ds['name'])\n",
    "#print(ds['name'][0:5])\n",
    "cosine_similarities = linear_kernel(tfidf_matrix, tfidf_matrix)\n",
    "print(cosine_similarities)\n",
    "\n",
    "results = {}\n",
    "\n",
    "for idx, row in ds.iterrows():\n",
    "    similar_indices = cosine_similarities[idx].argsort()[:-100:-1]\n",
    "    similar_items = [(cosine_similarities[idx][i], ds['id'][i]) for i in similar_indices]\n",
    "\n",
    "    # First item is the item itself, so remove it.\n",
    "    # Each dictionary entry is like: [(1,2), (3,4)], with each tuple being (score, item_id)\n",
    "    results[row['id']] = similar_items[1:]\n",
    "    \n",
    "print('done!')"
   ]
  },
  {
   "cell_type": "code",
   "execution_count": 2,
   "metadata": {},
   "outputs": [
    {
     "name": "stdout",
     "output_type": "stream",
     "text": [
      "Recommending 10 products similar to Coffee coco butter ylang ylang soap 125gm (Copy)...\n",
      "-------\n",
      "Recommended: Coffee coco butter ylang ylang soap 125gm (score:0.9248711852463111)\n",
      "Recommended: Pumpkin seed Ylang Ylang 125gm (score:0.6107609654359472)\n",
      "Recommended: Ancient Living Organic Ylang Ylang Essential Oil 10ml (score:0.5223729495125253)\n",
      "Recommended: Tulsi Rosemary Shea Butter Vit E Soap 125gm (score:0.2486388512798019)\n",
      "Recommended: Calendula  Rosemary Shea Butter 125gm (score:0.20622082115812565)\n",
      "Recommended: Aromatic Lemongrass Shea Butter Clove 125gm (score:0.1836043549265004)\n",
      "Recommended: Oatmeal Lemongrass Soap 125gm (score:0.16280427654013346)\n",
      "Recommended: Calamine Rosemary Soap 125gm (score:0.1606308743132731)\n",
      "Recommended: Charcoal Cedar Soap 125gm (score:0.1586335625669339)\n",
      "Recommended: Apple Cider  Bergamot Soap 125gm (score:0.15364793365864357)\n"
     ]
    }
   ],
   "source": [
    "def item(id):\n",
    "    return ds.loc[ds['id'] == id]['name'].tolist()[0].split(' - ')[0]\n",
    "\n",
    "# Just reads the results out of the dictionary. No real logic here.\n",
    "def recommend(item_id, num):\n",
    "    print(\"Recommending \" + str(num) + \" products similar to \" + item(item_id) + \"...\")\n",
    "    print(\"-------\")\n",
    "    recs = results[item_id][:num]\n",
    "    for rec in recs:\n",
    "        print(\"Recommended: \" + item(rec[1]) + \" (score:\" + str(rec[0]) + \")\")\n",
    "\n",
    "# Just plug in any item id here (1-500), and the number of recommendations you want (1-99)\n",
    "# You can get a list of valid item IDs by evaluating the variable 'ds', or a few are listed below\n",
    "\n",
    "recommend(item_id=4, num=10)"
   ]
  },
  {
   "cell_type": "code",
   "execution_count": null,
   "metadata": {},
   "outputs": [],
   "source": []
  }
 ],
 "metadata": {
  "kernelspec": {
   "display_name": "Python 3",
   "language": "python",
   "name": "python3"
  },
  "language_info": {
   "codemirror_mode": {
    "name": "ipython",
    "version": 3
   },
   "file_extension": ".py",
   "mimetype": "text/x-python",
   "name": "python",
   "nbconvert_exporter": "python",
   "pygments_lexer": "ipython3",
   "version": "3.6.5"
  }
 },
 "nbformat": 4,
 "nbformat_minor": 2
}
