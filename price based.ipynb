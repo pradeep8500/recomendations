{
 "cells": [
  {
   "cell_type": "code",
   "execution_count": 8,
   "metadata": {},
   "outputs": [
    {
     "name": "stderr",
     "output_type": "stream",
     "text": [
      "IOPub data rate exceeded.\n",
      "The notebook server will temporarily stop sending output\n",
      "to the client in order to avoid crashing it.\n",
      "To change this limit, set the config variable\n",
      "`--NotebookApp.iopub_data_rate_limit`.\n",
      "\n",
      "Current values:\n",
      "NotebookApp.iopub_data_rate_limit=1000000.0 (bytes/sec)\n",
      "NotebookApp.rate_limit_window=3.0 (secs)\n",
      "\n"
     ]
    }
   ],
   "source": [
    "import pandas as pd\n",
    "final2=[]\n",
    "final3=[]\n",
    "df=pd.read_csv(\"AR_category_product.csv\")\n",
    "dfn=df['id'].tolist()\n",
    "dfn=list(set(dfn))\n",
    "for i in dfn:\n",
    "   flat_list=[] \n",
    "   final1=[]\n",
    "   df1=df.loc[df['id']==i]\n",
    "   dl=df1['category_id'].tolist()\n",
    "   dl=list(set(dl)) \n",
    "   for l in dl:    \n",
    "    df2 = df.loc[df['category_id'] == l]\n",
    "    dd = list(df2['id'])\n",
    "    final1.append(dd)\n",
    "   flat_list = [item for sublist in final1 for item in sublist]\n",
    "   final2.append(flat_list)    \n",
    "    \n",
    "itemAffinity= pd.DataFrame(columns=('product_id','total_products'))\n",
    "itemAffinity['product_id']=dfn\n",
    "itemAffinity['total_products']=final2\n",
    "#itemAffinity.to_csv('product_product.csv', index=False)   "
   ]
  },
  {
   "cell_type": "code",
   "execution_count": 1,
   "metadata": {},
   "outputs": [],
   "source": [
    "import pandas as pd\n",
    "final=[]\n",
    "df=pd.read_csv(\"AR_category_product.csv\")\n",
    "dfn=df['category_id'].tolist()\n",
    "dfn=list(set(dfn))\n",
    "for l in dfn:\n",
    "    df2 = df.loc[df['category_id'] == l]\n",
    "    dd = list(df2['id'])\n",
    "    product_ids=[str(word) for word in dd]\n",
    "    products_string = \",\".join(product_ids)\n",
    "    final.append(products_string.strip()) \n",
    "itemAffinity= pd.DataFrame(columns=('category_id','total_products'))\n",
    "itemAffinity['category_id']=dfn\n",
    "itemAffinity['total_products']=final\n",
    "itemAffinity.to_csv('category_products.csv', index=False)"
   ]
  },
  {
   "cell_type": "code",
   "execution_count": 2,
   "metadata": {},
   "outputs": [],
   "source": [
    "def tokens(eachid):\n",
    "    final=[]\n",
    "    df= pd.read_csv(\"AR_category_product.csv\")\n",
    "    df2 = df.loc[df['category_id'] == int(eachid)]\n",
    "    dd = list(df2['id'])\n",
    "    return(dd)"
   ]
  },
  {
   "cell_type": "code",
   "execution_count": 12,
   "metadata": {},
   "outputs": [
    {
     "name": "stdout",
     "output_type": "stream",
     "text": [
      "The final price of the selected product is  110.0\n",
      "\n",
      "    final_price  id\n",
      "8         110.0  33\n",
      "9         110.0  34\n",
      "12        110.0  39\n",
      "13        110.0  40\n",
      "10        120.0  35\n",
      "0          95.0  12\n",
      "4         130.0  23\n",
      "3         140.0  21\n",
      "6         140.0  30\n",
      "5         145.0  29\n",
      "11        165.0  37\n",
      "2         170.0  18\n",
      "7         175.0  31\n",
      "1          30.0  15\n"
     ]
    }
   ],
   "source": [
    "df_cat = pd.read_csv(\"category_product.csv\")\n",
    "eachid=33\n",
    "word1=[]\n",
    "df=pd.read_csv(\"AR_all.csv\") \n",
    "categories=df_cat.loc[df_cat['product_id']==int(eachid)]\n",
    "cat_list=categories['category_id'].tolist()\n",
    "dfffff=df.loc[df['id']==int(eachid)]\n",
    "price=dfffff['final_price'].tolist()\n",
    "print('The final price of the selected product is ',price[0])\n",
    "All_word=[]\n",
    "for i in cat_list:\n",
    "    word = tokens(int(i))\n",
    "    All_word.append(word)   \n",
    "common_items = set.intersection(*map(set, All_word))\n",
    "word = [o for o in list(common_items) if o not in word1]\n",
    "df_id=df.loc[df['id'].isin(word)]\n",
    "df_id.reset_index(drop=True, inplace=True)\n",
    "df=df_id.loc[(df_id.final_price-price[0]).abs().argsort()]   \n",
    "print(df[['final_price','id']])"
   ]
  },
  {
   "cell_type": "code",
   "execution_count": null,
   "metadata": {},
   "outputs": [],
   "source": []
  }
 ],
 "metadata": {
  "kernelspec": {
   "display_name": "Python 3",
   "language": "python",
   "name": "python3"
  },
  "language_info": {
   "codemirror_mode": {
    "name": "ipython",
    "version": 3
   },
   "file_extension": ".py",
   "mimetype": "text/x-python",
   "name": "python",
   "nbconvert_exporter": "python",
   "pygments_lexer": "ipython3",
   "version": "3.6.5"
  }
 },
 "nbformat": 4,
 "nbformat_minor": 2
}
