{
 "cells": [
  {
   "cell_type": "code",
   "execution_count": 8,
   "metadata": {},
   "outputs": [
    {
     "name": "stdout",
     "output_type": "stream",
     "text": [
      "[1115, 1340, 220, 547, 1073, 1376, 1188, 218, 1502]\n"
     ]
    }
   ],
   "source": [
    "import pandas as pd\n",
    "from collections import Counter\n",
    "final_list=[]\n",
    "sentence=1285\n",
    "product_id=sentence\n",
    "df=pd.read_csv(\"order_item.csv\")\n",
    "df1=df.loc[df['product_id']==int(sentence)]\n",
    "uid=list(set(df1['order_id'].tolist()))\n",
    "iddf=df.loc[df['order_id'].isin(uid)]\n",
    "ordered_products=iddf['product_id'].tolist()\n",
    "pp=pd.DataFrame()\n",
    "pp['id']=[i[0] for i in Counter(ordered_products).most_common()]\n",
    "pp['fre']=[i[1] for i in Counter(ordered_products).most_common()]              \n",
    "productdf=pd.read_csv(\"AR_all.csv\")\n",
    "pp = pp.merge(productdf, on='id', how=\"left\").fillna(0)\n",
    "worddf=pp.sort_values('fre',ascending=False) \n",
    "word=worddf['id'].tolist()\n",
    "word.remove(int(sentence))        \n",
    "word=word[:int(10)]\t\n",
    "final_list.extend(word)\n",
    "print (final_list)"
   ]
  },
  {
   "cell_type": "code",
   "execution_count": null,
   "metadata": {},
   "outputs": [],
   "source": []
  },
  {
   "cell_type": "code",
   "execution_count": null,
   "metadata": {},
   "outputs": [],
   "source": []
  }
 ],
 "metadata": {
  "kernelspec": {
   "display_name": "Python 3",
   "language": "python",
   "name": "python3"
  },
  "language_info": {
   "codemirror_mode": {
    "name": "ipython",
    "version": 3
   },
   "file_extension": ".py",
   "mimetype": "text/x-python",
   "name": "python",
   "nbconvert_exporter": "python",
   "pygments_lexer": "ipython3",
   "version": "3.6.5"
  }
 },
 "nbformat": 4,
 "nbformat_minor": 2
}
